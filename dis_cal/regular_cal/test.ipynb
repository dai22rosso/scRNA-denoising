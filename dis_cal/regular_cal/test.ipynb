{
 "cells": [
  {
   "cell_type": "code",
   "execution_count": 2,
   "id": "9b6cc4db",
   "metadata": {},
   "outputs": [],
   "source": [
    "import numpy as np\n",
    "import time"
   ]
  },
  {
   "cell_type": "code",
   "execution_count": 3,
   "id": "d7fcae81",
   "metadata": {},
   "outputs": [],
   "source": [
    "X=np.random.rand(1000, 1000)\n"
   ]
  },
  {
   "cell_type": "code",
   "execution_count": 13,
   "id": "9c88f3c7",
   "metadata": {},
   "outputs": [
    {
     "data": {
      "text/plain": [
       "array([[  0.        , 321.35688166, 322.84239091, ..., 325.69283127,\n",
       "        341.83455113, 334.96651773],\n",
       "       [321.35688166,   0.        , 329.17729888, ..., 340.12667609,\n",
       "        329.94354618, 341.57371608],\n",
       "       [322.84239091, 329.17729888,   0.        , ..., 340.80567774,\n",
       "        322.69144798, 339.5978518 ],\n",
       "       ...,\n",
       "       [325.69283127, 340.12667609, 340.80567774, ...,   0.        ,\n",
       "        334.91827771, 337.73179274],\n",
       "       [341.83455113, 329.94354618, 322.69144798, ..., 334.91827771,\n",
       "          0.        , 336.0562981 ],\n",
       "       [334.96651773, 341.57371608, 339.5978518 , ..., 337.73179274,\n",
       "        336.0562981 ,   0.        ]])"
      ]
     },
     "execution_count": 13,
     "metadata": {},
     "output_type": "execute_result"
    }
   ],
   "source": [
    "dis1 = np.abs(X[:, np.newaxis, :] - X[np.newaxis, :, :]).sum(axis=2) #using numpy\n",
    "dis2=np.zeros((X.shape[0],X.shape[0])) # the for loop with linalg norm\n",
    "for i in range(X.shape[0]):\n",
    "    for j in range(X.shape[0]):\n",
    "        dis2[i,j]=np.linalg.norm(X[i]-X[j],1)\n",
    "dis1"
   ]
  },
  {
   "cell_type": "code",
   "execution_count": 7,
   "id": "97d4d863",
   "metadata": {},
   "outputs": [],
   "source": [
    "time_start = time.time()\n",
    "dis1 = np.abs(X[:, np.newaxis, :] - X[np.newaxis, :, :]).sum(axis=2)\n",
    "time_end = time.time() \n",
    "time_sum = time_end - time_start \n",
    "f = open(\"numpy_para.txt\", \"w\") \n",
    "f.write(\"time is %f\"%time_sum) \n",
    "f.close()\n",
    "time_start = time.time()\n",
    "dis2=np.zeros((X.shape[0],X.shape[0]))\n",
    "for i in range(X.shape[0]):\n",
    "    for j in range(X.shape[0]):\n",
    "        dis2[i,j]=np.linalg.norm(X[i]-X[j],1)\n",
    "time_end = time.time() \n",
    "time_sum = time_end - time_start \n",
    "f=open(\"for_norm.txt\",\"w\")\n",
    "f.write(\"time is %f\"%time_sum)\n",
    "f.close()\n",
    "np.savetxt(\"dis_m.txt\",dis2,fmt='%d')"
   ]
  },
  {
   "cell_type": "code",
   "execution_count": 33,
   "id": "694224b8",
   "metadata": {},
   "outputs": [
    {
     "name": "stdout",
     "output_type": "stream",
     "text": [
      "0.04600238800048828\n",
      "0.03200125694274902\n",
      "2.331395149230957\n",
      "0.9355790615081787\n"
     ]
    },
    {
     "data": {
      "text/plain": [
       "(array([[  0, 226, 577, 306, 268, 290,  73, 923, 658, 211, 653],\n",
       "        [  1, 756, 849, 319,  75, 596, 996, 712, 401, 197, 609],\n",
       "        [  2, 794,   9, 301, 215, 751, 837, 923, 925, 960, 622]],\n",
       "       dtype=int64),\n",
       " array([[226,  73, 306, 826, 969, 577, 211, 658, 820,  28],\n",
       "        [756, 996, 849, 939, 319, 712, 986,  75, 518, 197],\n",
       "        [794, 301, 751, 960, 871, 837, 923, 537,  83, 223]], dtype=int64),\n",
       " array([[  0, 226, 826, 306,  68, 290, 211,  73, 461, 607, 577],\n",
       "        [  1, 939, 319, 849, 996, 756, 494, 197,  49, 712, 873],\n",
       "        [  2, 301, 794, 751, 810, 960, 871, 622,   9, 933, 923]],\n",
       "       dtype=int64),\n",
       " array([[  0, 226, 826, 306,  68, 290, 211,  73, 461, 607, 577],\n",
       "        [  1, 939, 319, 849, 996, 756, 494, 197,  49, 712, 873],\n",
       "        [  2, 301, 794, 751, 810, 960, 871, 622,   9, 933, 923]],\n",
       "       dtype=int64))"
      ]
     },
     "execution_count": 33,
     "metadata": {},
     "output_type": "execute_result"
    }
   ],
   "source": [
    "dis=dis1\n",
    "from sklearn.neighbors import NearestNeighbors\n",
    "k=10\n",
    "time_start = time.time()\n",
    "indices = np.argsort(dis1, axis=1)[:, 1:k+1]\n",
    "time_end = time.time() \n",
    "time_sum = time_end - time_start\n",
    "print(time_sum)\n",
    "\n",
    "time_start = time.time()\n",
    "nbrs = NearestNeighbors(n_neighbors=k+1, algorithm='auto').fit(dis)\n",
    "distances, indices2 = nbrs.kneighbors(dis)\n",
    "time_end = time.time() \n",
    "time_sum = time_end - time_start\n",
    "print(time_sum)\n",
    "\n",
    "import numpy as np\n",
    "from scipy.spatial import KDTree\n",
    "tree = KDTree(X)\n",
    "time_start = time.time()\n",
    "\n",
    "distances, indices3 = tree.query(X, k=k+1)\n",
    "time_end = time.time() \n",
    "time_sum = time_end - time_start\n",
    "print(time_sum)\n",
    "from sklearn.neighbors import BallTree\n",
    "tree = BallTree(X, leaf_size=5)\n",
    "time_start = time.time()\n",
    "\n",
    "distances, indices4 = tree.query(X, k=k+1)\n",
    "time_end = time.time() \n",
    "time_sum = time_end - time_start\n",
    "print(time_sum)\n",
    "\n",
    "indices2[:3],indices[:3],indices3[:3],indices4[:3]"
   ]
  }
 ],
 "metadata": {
  "kernelspec": {
   "display_name": "Python 3 (ipykernel)",
   "language": "python",
   "name": "python3"
  },
  "language_info": {
   "codemirror_mode": {
    "name": "ipython",
    "version": 3
   },
   "file_extension": ".py",
   "mimetype": "text/x-python",
   "name": "python",
   "nbconvert_exporter": "python",
   "pygments_lexer": "ipython3",
   "version": "3.9.17"
  }
 },
 "nbformat": 4,
 "nbformat_minor": 5
}
