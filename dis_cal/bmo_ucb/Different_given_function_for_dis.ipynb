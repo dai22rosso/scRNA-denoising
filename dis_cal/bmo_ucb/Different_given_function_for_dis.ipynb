{
 "cells": [
  {
   "cell_type": "code",
   "execution_count": 12,
   "id": "f587ceb4",
   "metadata": {},
   "outputs": [],
   "source": [
    "from dis_utils import *\n",
    "import time"
   ]
  },
  {
   "cell_type": "code",
   "execution_count": 2,
   "id": "82519a2c",
   "metadata": {},
   "outputs": [],
   "source": [
    "def generate_sparse_matrix(width, height, sparsity, max_value=100):\n",
    "    \"\"\"\n",
    "    生成一个指定宽度、高度和稀疏率的非负整数随机矩阵。\n",
    "\n",
    "    参数:\n",
    "    - width (int): 矩阵的列数。\n",
    "    - height (int): 矩阵的行数。\n",
    "    - sparsity (float): 稀疏率，取值范围为 [0, 1]，越接近1，矩阵越稀疏。\n",
    "    - max_value (int): 矩阵中非零元素的最大值，默认为100。\n",
    "\n",
    "    返回:\n",
    "    - np.ndarray: 生成的稀疏矩阵。\n",
    "    \"\"\"\n",
    "    # 创建一个全零矩阵\n",
    "    matrix = np.zeros((height, width), dtype=int)\n",
    "\n",
    "    # 计算需要填充的非零元素的数量\n",
    "    num_nonzeros = int((1 - sparsity) * width * height)\n",
    "\n",
    "    # 随机选择填充非零元素的位置\n",
    "    indices = np.random.choice(width * height, num_nonzeros, replace=False)\n",
    "\n",
    "    # 随机生成非负整数值，并将其填充到矩阵中\n",
    "    matrix.flat[indices] = np.random.randint(1, max_value + 1, size=num_nonzeros)\n",
    "\n",
    "    return matrix"
   ]
  },
  {
   "cell_type": "code",
   "execution_count": 13,
   "id": "49618e00",
   "metadata": {},
   "outputs": [
    {
     "name": "stdout",
     "output_type": "stream",
     "text": [
      "0\n",
      "1\n",
      "2\n"
     ]
    },
    {
     "ename": "KeyboardInterrupt",
     "evalue": "",
     "output_type": "error",
     "traceback": [
      "\u001b[1;31m---------------------------------------------------------------------------\u001b[0m",
      "\u001b[1;31mKeyboardInterrupt\u001b[0m                         Traceback (most recent call last)",
      "Cell \u001b[1;32mIn[13], line 9\u001b[0m\n\u001b[0;32m      7\u001b[0m mat\u001b[38;5;241m=\u001b[39mgenerate_sparse_matrix(width[i],width[i],spar[j],\u001b[38;5;241m20\u001b[39m)\n\u001b[0;32m      8\u001b[0m time_start \u001b[38;5;241m=\u001b[39m time\u001b[38;5;241m.\u001b[39mtime()\n\u001b[1;32m----> 9\u001b[0m \u001b[43mnorm_for_loop\u001b[49m\u001b[43m(\u001b[49m\u001b[43mmat\u001b[49m\u001b[43m)\u001b[49m\n\u001b[0;32m     10\u001b[0m time_end \u001b[38;5;241m=\u001b[39m time\u001b[38;5;241m.\u001b[39mtime() \n\u001b[0;32m     11\u001b[0m time_sum \u001b[38;5;241m=\u001b[39m time_end \u001b[38;5;241m-\u001b[39m time_start\n",
      "File \u001b[1;32m~\\Desktop\\RNA\\dis_matrix\\dis_utils.py:10\u001b[0m, in \u001b[0;36mnorm_for_loop\u001b[1;34m(X)\u001b[0m\n\u001b[0;32m      8\u001b[0m \u001b[38;5;28;01mfor\u001b[39;00m i \u001b[38;5;129;01min\u001b[39;00m \u001b[38;5;28mrange\u001b[39m(cell):\n\u001b[0;32m      9\u001b[0m     \u001b[38;5;28;01mfor\u001b[39;00m j \u001b[38;5;129;01min\u001b[39;00m \u001b[38;5;28mrange\u001b[39m(i\u001b[38;5;241m+\u001b[39m\u001b[38;5;241m1\u001b[39m,cell):\n\u001b[1;32m---> 10\u001b[0m         dis[i,j]\u001b[38;5;241m=\u001b[39mnp\u001b[38;5;241m.\u001b[39mlinalg\u001b[38;5;241m.\u001b[39mnorm(\u001b[43mX\u001b[49m\u001b[43m[\u001b[49m\u001b[43mi\u001b[49m\u001b[43m]\u001b[49m\u001b[38;5;241;43m-\u001b[39;49m\u001b[43mX\u001b[49m\u001b[43m[\u001b[49m\u001b[43mj\u001b[49m\u001b[43m]\u001b[49m,\u001b[38;5;241m1\u001b[39m)\n\u001b[0;32m     11\u001b[0m dis\u001b[38;5;241m=\u001b[39mdis\u001b[38;5;241m+\u001b[39mdis\u001b[38;5;241m.\u001b[39mT\n\u001b[0;32m     12\u001b[0m \u001b[38;5;28;01mreturn\u001b[39;00m dis\n",
      "\u001b[1;31mKeyboardInterrupt\u001b[0m: "
     ]
    }
   ],
   "source": [
    "width=[100,1000,10000,100000,500000,1000000,2000000,3000000]\n",
    "spar=[0,0.2,0.5,0.9]\n",
    "timen=np.zeros([3,8,4])\n",
    "for i in range(8):\n",
    "    print(i)\n",
    "    for j in range(4):\n",
    "        mat=generate_sparse_matrix(width[i],width[i],spar[j],20)\n",
    "        time_start = time.time()\n",
    "        norm_for_loop(mat)\n",
    "        time_end = time.time() \n",
    "        time_sum = time_end - time_start\n",
    "        timen[0][i][j]=time_sum\n",
    "        time_start = time.time()\n",
    "        sum_abs_for_loop(mat)\n",
    "        time_end = time.time() \n",
    "        time_sum = time_end - time_start\n",
    "        timen[1][i][j]=time_sum\n",
    "        time_start = time.time()\n",
    "        scipy_dist(mat)\n",
    "        time_end = time.time() \n",
    "        time_sum = time_end - time_start\n",
    "        timen[2][i][j]=time_sum\n",
    "time"
   ]
  },
  {
   "cell_type": "code",
   "execution_count": 8,
   "id": "def9a30f",
   "metadata": {},
   "outputs": [
    {
     "data": {
      "text/plain": [
       "array([[[0., 0., 0., 0.],\n",
       "        [0., 0., 0., 0.],\n",
       "        [0., 0., 0., 0.],\n",
       "        [0., 0., 0., 0.],\n",
       "        [0., 0., 0., 0.],\n",
       "        [0., 0., 0., 0.],\n",
       "        [0., 0., 0., 0.],\n",
       "        [0., 0., 0., 0.]],\n",
       "\n",
       "       [[0., 0., 0., 0.],\n",
       "        [0., 0., 0., 0.],\n",
       "        [0., 0., 0., 0.],\n",
       "        [0., 0., 0., 0.],\n",
       "        [0., 0., 0., 0.],\n",
       "        [0., 0., 0., 0.],\n",
       "        [0., 0., 0., 0.],\n",
       "        [0., 0., 0., 0.]],\n",
       "\n",
       "       [[0., 0., 0., 0.],\n",
       "        [0., 0., 0., 0.],\n",
       "        [0., 0., 0., 0.],\n",
       "        [0., 0., 0., 0.],\n",
       "        [0., 0., 0., 0.],\n",
       "        [0., 0., 0., 0.],\n",
       "        [0., 0., 0., 0.],\n",
       "        [0., 0., 0., 0.]]])"
      ]
     },
     "execution_count": 8,
     "metadata": {},
     "output_type": "execute_result"
    }
   ],
   "source": [
    "time=np.zeros([3,8,4])\n",
    "time"
   ]
  }
 ],
 "metadata": {
  "kernelspec": {
   "display_name": "Python 3 (ipykernel)",
   "language": "python",
   "name": "python3"
  },
  "language_info": {
   "codemirror_mode": {
    "name": "ipython",
    "version": 3
   },
   "file_extension": ".py",
   "mimetype": "text/x-python",
   "name": "python",
   "nbconvert_exporter": "python",
   "pygments_lexer": "ipython3",
   "version": "3.9.17"
  }
 },
 "nbformat": 4,
 "nbformat_minor": 5
}
