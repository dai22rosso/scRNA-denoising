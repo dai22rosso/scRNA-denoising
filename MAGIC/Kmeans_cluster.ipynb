{
 "cells": [
  {
   "cell_type": "code",
   "execution_count": 1,
   "id": "a296bbd7",
   "metadata": {},
   "outputs": [],
   "source": [
    "import numpy as np\n",
    "import anndata as ad\n",
    "import pandas as pd\n",
    "from sklearn.decomposition import PCA\n",
    "from sklearn.manifold import TSNE\n",
    "import matplotlib.pyplot as plt"
   ]
  },
  {
   "cell_type": "code",
   "execution_count": 4,
   "id": "2fddd091",
   "metadata": {},
   "outputs": [],
   "source": [
    "X=np.loadtxt('./inDrop1.txt')"
   ]
  },
  {
   "cell_type": "code",
   "execution_count": 4,
   "id": "0f470781",
   "metadata": {},
   "outputs": [
    {
     "name": "stdout",
     "output_type": "stream",
     "text": [
      "1937\n"
     ]
    }
   ],
   "source": [
    "import numpy as np\n",
    "import matplotlib.pyplot as plt\n",
    "from sklearn.metrics import pairwise_distances\n",
    "\"\"\"\n",
    "use the manhatten distance to make the kmeans algorithm\n",
    "\n",
    "\"\"\"\n",
    "def kmeans_manhattan(X, n_clusters, max_iter=30000, tol=1e-4, random_state=None):\n",
    "    if random_state is not None:\n",
    "        #set random seed\n",
    "        np.random.seed(random_state)\n",
    "    \n",
    "    # randomly choose the cluster center \n",
    "    initial_indices = np.random.choice(X.shape[0], n_clusters, replace=False)\n",
    "    cluster_centers = X[initial_indices]\n",
    "    #iteration\n",
    "    for i in range(max_iter):\n",
    "        # calculate the manhatten distance to the closest cluster center and label them \n",
    "        labels = pairwise_distances(X, cluster_centers, metric='manhattan').argmin(axis=1)\n",
    "        \n",
    "        # Use these data to get the new cluster center\n",
    "        new_centers = np.array([X[labels == j].mean(axis=0) for j in range(n_clusters)])\n",
    "        \n",
    "        # see if the centers aren't change much in 2 iterations\n",
    "        if np.all(np.abs(new_centers - cluster_centers) < tol):\n",
    "            break\n",
    "        \n",
    "        cluster_centers = new_centers\n",
    "\n",
    "    return cluster_centers, labels\n",
    "\n",
    "\n",
    "n_clusters = 14\n",
    "cluster_centers, labels = kmeans_manhattan(X, n_clusters)\n",
    "print(len(labels))\n",
    "lb=[]\n",
    "for i in range(len(labels)):\n",
    "    lb.append(str(int(labels[i])))\n",
    "lb=np.array(lb)\n",
    "np.savetxt(\"./labelsKmeans.txt\",lb,fmt=\"%s\")\n",
    "\n"
   ]
  },
  {
   "cell_type": "code",
   "execution_count": 5,
   "id": "ada71218",
   "metadata": {},
   "outputs": [
    {
     "name": "stderr",
     "output_type": "stream",
     "text": [
      "C:\\Users\\rossoneri\\anaconda3\\envs\\tf\\lib\\site-packages\\sklearn\\cluster\\_kmeans.py:1412: FutureWarning: The default value of `n_init` will change from 10 to 'auto' in 1.4. Set the value of `n_init` explicitly to suppress the warning\n",
      "  super()._check_params_vs_input(X, default_n_init=10)\n"
     ]
    },
    {
     "name": "stdout",
     "output_type": "stream",
     "text": [
      "1937\n"
     ]
    }
   ],
   "source": [
    "from sklearn.cluster import KMeans\n",
    "K=14\n",
    "kmeans = KMeans(n_clusters=K, random_state=None)  \n",
    "kmeans.fit(X)  \n",
    "labels = kmeans.predict(X)  \n",
    "print(len(labels))\n",
    "lb=[]\n",
    "for i in range(len(labels)):\n",
    "    lb.append(str(int(labels[i])))\n",
    "lb=np.array(lb)\n",
    "np.savetxt(\"./labelsKmeans.txt\",lb,fmt=\"%s\")"
   ]
  },
  {
   "cell_type": "code",
   "execution_count": 5,
   "id": "0f659a97",
   "metadata": {},
   "outputs": [
    {
     "name": "stderr",
     "output_type": "stream",
     "text": [
      "C:\\Users\\rossoneri\\anaconda3\\envs\\tf\\lib\\site-packages\\sklearn\\cluster\\_kmeans.py:1412: FutureWarning: The default value of `n_init` will change from 10 to 'auto' in 1.4. Set the value of `n_init` explicitly to suppress the warning\n",
      "  super()._check_params_vs_input(X, default_n_init=10)\n"
     ]
    }
   ],
   "source": [
    "import numpy as np\n",
    "import pandas as pd\n",
    "from sklearn.neighbors import NearestNeighbors\n",
    "from sklearn.cluster import KMeans\n",
    "\n",
    "def knn_smoothing(data, n_neighbors=5):\n",
    "    \"\"\"\n",
    "    Apply KNN smoothing to the data.\n",
    "\n",
    "    Parameters:\n",
    "    - data: 2D array-like, shape (n_samples, n_features)\n",
    "    - n_neighbors: int, number of neighbors to use for smoothing\n",
    "\n",
    "    Returns:\n",
    "    - smoothed_data: 2D array, smoothed data\n",
    "    \"\"\"\n",
    "    # Fit the NearestNeighbors model\n",
    "    nbrs = NearestNeighbors(n_neighbors=n_neighbors, algorithm='auto').fit(data)\n",
    "    distances, indices = nbrs.kneighbors(data)\n",
    "    \n",
    "    # Perform KNN smoothing\n",
    "    smoothed_data = np.zeros_like(data)\n",
    "    for i in range(data.shape[0]):\n",
    "        smoothed_data[i, :] = np.mean(data[indices[i, :], :], axis=0)\n",
    "    \n",
    "    return smoothed_data\n",
    "\n",
    "def classify_cells_with_knn_smoothing(cell_gene_matrix, n_clusters=3, n_neighbors=5):\n",
    "    \"\"\"\n",
    "    Classifies cells using KNN smoothing and K-means clustering.\n",
    "\n",
    "    Parameters:\n",
    "    - cell_gene_matrix: list of lists, representing the cell*gene matrix.\n",
    "    - n_clusters: int, number of clusters to use for K-means clustering.\n",
    "    - n_neighbors: int, number of neighbors to use for KNN smoothing.\n",
    "\n",
    "    Returns:\n",
    "    - labels: list, predicted labels for each cell.\n",
    "    \"\"\"\n",
    "    # Convert the cell*gene matrix to a DataFrame\n",
    "    df = pd.DataFrame(cell_gene_matrix)\n",
    "    \n",
    "    # Apply KNN smoothing\n",
    "    smoothed_data = knn_smoothing(df.values, n_neighbors=n_neighbors)\n",
    "    \n",
    "    # Perform K-means clustering\n",
    "    kmeans = KMeans(n_clusters=n_clusters, random_state=42)\n",
    "    kmeans.fit(smoothed_data)\n",
    "    \n",
    "    # Get the cluster labels\n",
    "    labels = kmeans.labels_\n",
    "    \n",
    "    return labels.tolist()\n",
    "\n",
    "\n",
    "\n",
    "lb = classify_cells_with_knn_smoothing(X,n_clusters=14, n_neighbors=10)\n",
    "np.savetxt(\"./labelsKmeans.txt\",lb,fmt=\"%s\")"
   ]
  }
 ],
 "metadata": {
  "kernelspec": {
   "display_name": "Python 3 (ipykernel)",
   "language": "python",
   "name": "python3"
  },
  "language_info": {
   "codemirror_mode": {
    "name": "ipython",
    "version": 3
   },
   "file_extension": ".py",
   "mimetype": "text/x-python",
   "name": "python",
   "nbconvert_exporter": "python",
   "pygments_lexer": "ipython3",
   "version": "3.9.17"
  }
 },
 "nbformat": 4,
 "nbformat_minor": 5
}
